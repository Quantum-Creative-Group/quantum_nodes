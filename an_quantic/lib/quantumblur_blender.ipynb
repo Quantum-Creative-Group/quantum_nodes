{
 "metadata": {
  "language_info": {
   "codemirror_mode": {
    "name": "ipython",
    "version": 3
   },
   "file_extension": ".py",
   "mimetype": "text/x-python",
   "name": "python",
   "nbconvert_exporter": "python",
   "pygments_lexer": "ipython3",
   "version": "3.8.5-final"
  },
  "orig_nbformat": 2,
  "kernelspec": {
   "name": "python38564bitblenderconda1b3cea8dee7e49a3ab749f39d2704889",
   "display_name": "Python 3.8.5 64-bit ('blender': conda)",
   "language": "python"
  }
 },
 "nbformat": 4,
 "nbformat_minor": 2,
 "cells": [
  {
   "cell_type": "code",
   "execution_count": 1,
   "metadata": {},
   "outputs": [],
   "source": [
    "import math"
   ]
  },
  {
   "cell_type": "code",
   "execution_count": 2,
   "metadata": {},
   "outputs": [],
   "source": [
    "try:\n",
    "    from qiskit import QuantumCircuit, quantum_info\n",
    "    simple_python = False\n",
    "except:\n",
    "    print('Unable to import Qiskit, so MicroQiskit will be used instead')\n",
    "    from microqiskit import QuantumCircuit, simulate\n",
    "    simple_python = True\n"
   ]
  },
  {
   "cell_type": "code",
   "execution_count": 6,
   "metadata": {},
   "outputs": [],
   "source": [
    "def _get_length(heights):\n",
    "    length = 0\n",
    "    for x in heights:\n",
    "        length = max(x+1,length)\n",
    "    return length"
   ]
  },
  {
   "cell_type": "code",
   "execution_count": 8,
   "metadata": {},
   "outputs": [
    {
     "output_type": "stream",
     "name": "stdout",
     "text": [
      "10\n"
     ]
    }
   ],
   "source": []
  },
  {
   "cell_type": "code",
   "execution_count": null,
   "metadata": {},
   "outputs": [],
   "source": []
  }
 ]
}