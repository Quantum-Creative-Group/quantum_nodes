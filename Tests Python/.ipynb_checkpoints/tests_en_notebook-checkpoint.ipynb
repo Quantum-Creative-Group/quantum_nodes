{
 "cells": [
  {
   "cell_type": "markdown",
   "metadata": {},
   "source": [
    "#PTUT tests\n"
   ]
  },
  {
   "cell_type": "code",
   "execution_count": 18,
   "metadata": {},
   "outputs": [
    {
     "name": "stdout",
     "output_type": "stream",
     "text": [
      "[ 6.94584328  2.24963995  0.8665988   2.73249245  1.16804977  2.03468285\n",
      "  0.52190913  2.08913633  0.6529956   4.71738126  1.75494616  4.65804078\n",
      " 14.10892985  2.00798309  1.87578703  1.46786668 11.16635613  1.86245978\n",
      "  1.42082865  2.07611949  4.67428242 19.87319657  1.19245273  1.58181296\n",
      "  1.02204239 14.94116714  0.32907176  8.74887229  3.96355591  3.36035946\n",
      "  1.70838847  1.4770478   2.27578676  5.71964386  2.18582366  0.62530567\n",
      "  4.5343021   4.90517089  1.68224387  3.24862394  0.7452621   3.09229936\n",
      " 19.03136178  6.19164165  1.15177464  0.74411811  7.14768978 54.60066077\n",
      "  2.6843979   3.65907677  1.05671495 18.3435993   8.83996264  0.33686721\n",
      " 17.04815602  2.44223435  7.22735021  3.50516256  2.05554129 30.10859741\n",
      "  1.64037014 12.18720912  9.82637253  1.84303446  3.15216155  0.61815389\n",
      "  3.31091306  7.41359553  3.90502227  6.72163149  0.71123652  5.6547542\n",
      "  5.76691453  3.11432782  5.87222546  4.95051285  0.31073857  1.86141132\n",
      "  1.31829508  1.50132705  0.33162601  0.76442092  8.46872702  0.51582176\n",
      "  0.86582811  1.45603819  5.72987035  2.13818768  8.71081575  3.08456885\n",
      "  6.40513288  2.09443841  2.5320665   1.46252538  1.58491399  0.6974411\n",
      "  1.22031129  0.89394303  4.58371942  1.33979433]\n"
     ]
    }
   ],
   "source": [
    "%matplotlib notebook   \n",
    "\n",
    "\n",
    "import qiskit\n",
    "\n",
    "import numpy as np\n",
    "\n",
    "seed = 71\n",
    "np.random.seed = seed\n",
    "\n",
    "import matplotlib.pyplot as plt\n",
    "\n",
    "%matplotlib inline\n",
    "\n",
    "from qiskit import QuantumRegister, QuantumCircuit, BasicAer\n",
    "# from qiskit.circuit.library import TwoLocal, UniformDistribution #deprecated\n",
    "from qiskit.circuit.library import TwoLocal\n",
    "\n",
    "from qiskit_finance.circuit.library import UniformDistribution\n",
    "\n",
    "from qiskit.utils import QuantumInstance, algorithm_globals\n",
    "from qiskit_machine_learning.algorithms import NumPyDiscriminator, QGAN\n",
    "\n",
    "algorithm_globals.random_seed = seed\n",
    "\n",
    "modeItems = [\n",
    "    (\"QNUMBER\", \"Number of Qubits\", \"Create quantum circuit from number of quibts\", \"\", 0) #,\n",
    "    #(\"QCNUMBER\", \"Number of Qubits and Bits\", \"Create quantum circuit from number of quibts and number of bits\", \"\", 1)\n",
    "]\n",
    "\n",
    "\n",
    "bl_idname = \"an_qGAN\"\n",
    "bl_label = \"qGAN Processing\"\n",
    "\n",
    "\n",
    "    # ------------- LOAD THE TRAINING DATA --------------\n",
    "\n",
    "# Number training data samples\n",
    "N = 100 # Was 1000 before but took too long\n",
    "\n",
    "# Load data samples from log-normal distribution with mean=1 and standard deviation=1\n",
    "mu = 1\n",
    "sigma = 1\n",
    "real_data = np.random.lognormal(mean=mu, sigma=sigma, size=N)\n",
    "\n",
    "# Set the data resolution\n",
    "# Set upper and lower data values as list of k min/max data values [[min_0,max_0],...,[min_k-1,max_k-1]]\n",
    "bounds = np.array([0.0, 3.0])\n",
    "# Set number of qubits per data dimension as list of k qubit values[#q_0,...,#q_k-1]\n",
    "num_qubits = [2]\n",
    "k = len(num_qubits)\n",
    "\n",
    "print(real_data)"
   ]
  },
  {
   "cell_type": "markdown",
   "metadata": {},
   "source": [
    "  # Initialize the qGAN"
   ]
  },
  {
   "cell_type": "code",
   "execution_count": 21,
   "metadata": {},
   "outputs": [],
   "source": [
    "        # Set number of training epochs\n",
    "        # Note: The algorithm's runtime can be shortened by reducing the number of training epochs.\n",
    "        num_epochs = 10\n",
    "        # Batch size\n",
    "        batch_size = 50 # Was 100 before\n",
    "\n",
    "        # Initialize qGAN\n",
    "        qgan = QGAN(real_data, bounds, num_qubits, batch_size, num_epochs, snapshot_dir=None)\n",
    "        qgan.seed = 1\n",
    "        # Set quantum instance to run the quantum generator\n",
    "        quantum_instance = QuantumInstance(\n",
    "            backend=BasicAer.get_backend(\"statevector_simulator\"), seed_transpiler=seed, seed_simulator=seed\n",
    "        )\n",
    "\n",
    "        # Set entangler map\n",
    "        entangler_map = [[0, 1]]\n",
    "\n",
    "\n",
    "        # Set an initial state for the generator circuit\n",
    "        init_dist = UniformDistribution(sum(num_qubits))\n",
    "\n",
    "        # Set the ansatz circuit\n",
    "        ansatz = TwoLocal(int(np.sum(num_qubits)), \"ry\", \"cz\", entanglement=entangler_map, reps=1)\n",
    "\n",
    "        # Set generator's initial parameters - in order to reduce the training time and hence the\n",
    "        # total running time for this notebook\n",
    "        init_params = [3.0, 1.0, 0.6, 1.6]\n",
    "\n",
    "        # You can increase the number of training epochs and use random initial parameters.\n",
    "        # init_params = np.random.rand(ansatz.num_parameters_settable) * 2 * np.pi\n",
    "\n",
    "        # Set generator circuit by adding the initial distribution infront of the ansatz\n",
    "        g_circuit = ansatz.compose(init_dist, front=True)\n",
    "\n",
    "        # Set quantum generator\n",
    "        qgan.set_generator(generator_circuit=g_circuit, generator_init_params=init_params)\n",
    "        # The parameters have an order issue that following is a temp. workaround\n",
    "        qgan._generator._free_parameters = sorted(g_circuit.parameters, key=lambda p: p.name)\n",
    "        # Set classical discriminator neural network\n",
    "        discriminator = NumPyDiscriminator(len(num_qubits))\n",
    "        qgan.set_discriminator(discriminator)"
   ]
  },
  {
   "cell_type": "markdown",
   "metadata": {},
   "source": [
    "# Run the qGAN training"
   ]
  },
  {
   "cell_type": "code",
   "execution_count": 22,
   "metadata": {},
   "outputs": [
    {
     "name": "stdout",
     "output_type": "stream",
     "text": [
      "Training results:\n",
      "  params_d : [ 0.02646114  0.62070005 -0.48919575 ... -0.17645709 -0.19133291\n",
      " -0.09736615]\n",
      "  params_g : [2.9900023  0.99000126 0.59000119 1.60999957]\n",
      "  loss_d : 0.7297\n",
      "  loss_g : [0.9849]\n",
      "  rel_entr : 0.1119\n"
     ]
    }
   ],
   "source": [
    "        # Run qGAN\n",
    "        result = qgan.run(quantum_instance)\n",
    "\n",
    "        print(\"Training results:\")\n",
    "        for key, value in result.items():\n",
    "            print(f\"  {key} : {value}\") # TODO : Print this data in a viewer node in Blender\n",
    "\n",
    "\n",
    "        # return num_epochs, bounds #specific to QN add-on code (not for notebook)"
   ]
  },
  {
   "cell_type": "markdown",
   "metadata": {},
   "source": [
    "# Training Progress & Outcome "
   ]
  },
  {
   "cell_type": "markdown",
   "metadata": {},
   "source": [
    "## Histogramme target - tests\n",
    "\n",
    "\n"
   ]
  },
  {
   "cell_type": "code",
   "execution_count": 23,
   "metadata": {},
   "outputs": [
    {
     "name": "stdout",
     "output_type": "stream",
     "text": [
      "log_normal =  [ 3.34537696  2.12523135  0.78707392  4.70833366  3.32230287  5.24584376\n",
      "  3.64329826  1.82340176  2.29695335  3.06495603  3.0212923   1.65493258\n",
      "  9.33259496  1.05205122  4.6757836   6.68817932  2.47953234  4.42974171\n",
      "  7.69576019 16.10854502]\n",
      "log_normal =  [ 3.  2.  1.  5.  3.  5.  4.  2.  2.  3.  3.  2.  9.  1.  5.  7.  2.  4.\n",
      "  8. 16.]\n",
      "log_normal =  [3. 2. 1. 3. 2. 2. 3. 3. 2. 1. 2.]\n",
      "temp =  [0, 2, 5, 4]\n",
      "log_normal =  [0.         0.18181818 0.45454545 0.36363636]\n",
      "cum_log_normal =  [0.         0.18181818 0.63636364 1.        ]\n",
      "targetcounts =  {'0': 0.0, '1': 0.18181818181818182, '2': 0.6363636363636364, '3': 1.0}\n"
     ]
    }
   ],
   "source": [
    "log_normal = np.random.lognormal(mean=1, sigma=1, size=20)\n",
    "print(\"log_normal = \", log_normal)\n",
    "log_normal = np.round(log_normal)\n",
    "print(\"log_normal = \", log_normal)\n",
    "bounds = np.array([0.0, 3.0])\n",
    "log_normal = log_normal[log_normal <= bounds[1]]\n",
    "print(\"log_normal = \", log_normal)\n",
    "\n",
    "temp = []\n",
    "for i in range(int(bounds[1] + 1)):\n",
    "    temp += [np.sum(log_normal == i)]\n",
    "print(\"temp = \",temp)\n",
    "log_normal = np.array(temp / sum(temp))\n",
    "cum_log_normal = np.cumsum(log_normal)\n",
    "print(\"log_normal = \", log_normal)\n",
    "\n",
    "targetCounts = {}\n",
    "for i in range(len(cum_log_normal)) :\n",
    "    targetCounts[str(i)] = cum_log_normal[i]\n",
    "    \n",
    "print(\"cum_log_normal = \", cum_log_normal)\n",
    "print(\"targetcounts = \", targetCounts)"
   ]
  },
  {
   "cell_type": "markdown",
   "metadata": {},
   "source": [
    "# Histogramme du *générateur* - tests"
   ]
  },
  {
   "cell_type": "code",
   "execution_count": 28,
   "metadata": {},
   "outputs": [
    {
     "name": "stdout",
     "output_type": "stream",
     "text": [
      "samples_g =  [[0.0], [1.0], [2.0], [3.0]]\n",
      "samples_g =  [[0.]\n",
      " [1.]\n",
      " [2.]\n",
      " [3.]]\n",
      "samples_g =  [0. 1. 2. 3.]\n",
      "[0.012259080421668752, 0.5455212368706617, 0.19510090606177277, 0.24711877664589688]\n",
      "simulationcounts =  {'0.0': 0.012259080421668752, '1.0': 0.5577803172923305, '2.0': 0.7528812233541032, '3.0': 1.0}\n"
     ]
    }
   ],
   "source": [
    "samples_g, prob_g = qgan.generator.get_output(qgan.quantum_instance, shots=10000)\n",
    "print(\"samples_g = \", samples_g)\n",
    "samples_g = np.array(samples_g)\n",
    "print(\"samples_g = \", samples_g)\n",
    "samples_g = samples_g.flatten()\n",
    "print(\"samples_g = \", samples_g)\n",
    "print(prob_g)\n",
    "\n",
    "cum_prob_g = np.cumsum(prob_g)\n",
    "#num_bins = len(prob_g) # seems useless\n",
    "#plt.xticks(np.arange(min(samples_g), max(samples_g) + 1, 1.0)) # TO BE REMOVED (was for matplotlib graph)\n",
    "simulationCounts = {}\n",
    "for i in range(len(cum_prob_g)) :\n",
    "    simulationCounts[str(samples_g[i])] = cum_prob_g[i]\n",
    "\n",
    "print(\"simulationcounts = \", simulationCounts)"
   ]
  },
  {
   "cell_type": "markdown",
   "metadata": {},
   "source": [
    "# Tests divers"
   ]
  },
  {
   "cell_type": "code",
   "execution_count": 25,
   "metadata": {},
   "outputs": [
    {
     "name": "stdout",
     "output_type": "stream",
     "text": [
      "<class 'numpy.ndarray'>\n",
      "<class 'qiskit_machine_learning.algorithms.distribution_learners.qgan.qgan.QGAN'>\n"
     ]
    }
   ],
   "source": [
    "print(type(bounds))\n",
    "print(type(qgan))"
   ]
  },
  {
   "cell_type": "code",
   "execution_count": 26,
   "metadata": {},
   "outputs": [],
   "source": [
    "test = QGAN([1], np.array([1.0, 2.0]), [1], 1, 1, snapshot_dir=None)"
   ]
  },
  {
   "cell_type": "code",
   "execution_count": 6,
   "metadata": {},
   "outputs": [
    {
     "data": {
      "image/png": "[encoded data removed]",
      "text/plain": [
       "<Figure size 432x288 with 1 Axes>"
      ]
     },
     "metadata": {
      "needs_background": "light"
     },
     "output_type": "display_data"
    }
   ],
   "source": [
    "def GabaritPasseHaut(u,uc):\n",
    "    return 1*(np.abs(((u+0.5)%1 - 0.5))>uc)\n",
    "\n",
    "u=np.arange(-0.5,0.5,0.001)\n",
    "uc=0.2\n",
    "y=GabaritPasseHaut(u,uc)\n",
    "plt.figure(1)\n",
    "plt.plot(u,y,'r',label=r'$H_{ideal}(u)$ : $u_c=0.2$')\n",
    "plt.legend(loc='center')\n",
    "plt.grid()\n",
    "plt.show()\n",
    "    "
   ]
  },
  {
   "cell_type": "markdown",
   "metadata": {},
   "source": [
    "Ce filtre est associé à la Réponse Impulsionnelle (RI)\n",
    "\\begin{equation}\n",
    "\\begin{cases}\n",
    "h_{\\text{ideal}}[0] & =1-2 u_{c}\\\\\n",
    "h_{\\text{ideal}}[n] & =-\\frac{\\sin(2\\pi n u_{c})}{\\pi n}\\ \\text{si }n\\neq0.\n",
    "\\end{cases}\n",
    "\\end{equation}\n",
    "Cette dernière a été calculée par intégration : \n",
    "$$\n",
    "h_{\\text{ideal}}[n]=\\int_{-1/2}^{1/2}H_{\\text{ideal}}(u)e^{i2\\pi n u }du.\n",
    "$$\n",
    "\n",
    "\n",
    "C'est une suite non-causale et non-stable. \n",
    "Néanmoins, c'est à partir de cette RI que l'on conçoit un filtre de RI notée $h[n]$,  **RIF**, **causal** (et évidemment stable comme tous les filtres RIF). \n",
    "Dans toute la suite, $N$ désigne l'ordre de ce filtre c'est-à-dire que les seuls coefficients non-nuls de $h[n]$ sont \n",
    "$$\n",
    "h[n] \\ \\ , \\ \\ n\\in \\{0,1,...,N\\}.\n",
    "$$\n",
    "(c'est donc un filtre à **$N+1$ coefficients**). \n",
    "Nous supposerons enfin que **$N$ est un nombre pair** et nous noterons \n",
    "$$\n",
    "N=2M.\n",
    "$$\n",
    "\n",
    "Soit $w[n]$ une fenêtre d'ordre $N$, c'est une suite  causale, positive ayant $N+1$ coefficients : \n",
    "$$\n",
    "w[n]=0 \\ \\ \\text{ si } \\ \\ n\\notin \\{0,1,...,N\\}.\n",
    "$$\n",
    "On définit alors le filtre \n",
    "$$\n",
    "h[n]=h_{\\text{ideal}}[n-M]w[n].\n",
    "$$\n",
    "\n",
    "\n",
    "Voici représenté le passage de la RI  $h_{\\text{ideal}}[n]$ à $h[n]$ (nous avons choisi $N=20$ et $u_c=0.2$) lorsque la fenêtre choisie est la fenêtre rectangulaire (c'est-à-dire la fenêtre $w[n]=1$ pour tout $n\\in\\{0,1,...,N\\})$. \n"
   ]
  },
  {
   "cell_type": "code",
   "execution_count": null,
   "metadata": {},
   "outputs": [],
   "source": [
    "def RI_ideal(n,uc):\n",
    "    h=0.0*n  ### vecteur de même taille que n\n",
    "    h[n==0]=1-2*uc\n",
    "    h[n != 0]=1/(np.pi*n[n != 0])*(-np.sin(2*np.pi*n[n != 0]*uc))\n",
    "    return h\n",
    "\n",
    "M=10\n",
    "N=2*M\n",
    "uc=0.2\n",
    "indices=np.arange(-20,21)\n",
    "indices_tronc=np.arange(-M,M+1)\n",
    "h_ideal=RI_ideal(indices,uc)\n",
    "h=RI_ideal(indices_tronc,uc)\n",
    "plt.figure(2)\n",
    "plt.subplot(211)\n",
    "plt.plot(indices,h_ideal,'-o',label=r'$h_{ideal}[n]$ : suite infinie non causale')\n",
    "plt.legend(loc='upper left')\n",
    "plt.grid()\n",
    "plt.subplot(212)\n",
    "plt.plot(indices_tronc+M,h,'-o',label=r'$h[n]$ : RIF causal pour $M=10$')\n",
    "plt.axvline(x=M,linestyle='--',label=r'$M=10$')\n",
    "plt.legend(loc='upper left')\n",
    "plt.grid()\n",
    "\n",
    "\n"
   ]
  },
  {
   "attachments": {
    "Gibbs.png": {
     "image/png": "[encoded data removed]"
    }
   },
   "cell_type": "markdown",
   "metadata": {},
   "source": [
    "\n",
    "Le gain de ce filtre associé à la fenêtre rectangulaire  peut être étudié analytiquement (ceci est un travail assez pénible que nous éviterons cette année). Voici son graphe (nous avons choisi $N=24$ et $u_c=0.2$) : \n",
    "\n",
    "![Gibbs.png](attachment:Gibbs.png)\n",
    "On définit la **bande de transition comme l'intervalle entre la fréquence de l'oscillation la plus haute à gauche de $u_c$ et la fréquence de l'oscillation la plus haute à droite de $u_c$.**    On montre que cette bande, que nous noterons $\\Delta u$ vérifie : \n",
    "$$\n",
    "\\Delta u \\simeq \\frac{2}{N}.\n",
    "$$\n",
    "L'atténuation en bande de coupure est $21dB$ et en bande passante de $0.75dB$. \n",
    "\n"
   ]
  },
  {
   "cell_type": "markdown",
   "metadata": {},
   "source": [
    "### Question no 1 \n",
    "Les quelques lignes de code qui suivent vous permettent \n",
    "de retrouver le gain du filtre  RIF passe-bas  obtenu \n",
    "par la méthode de la fenêtre rectangulaire \n",
    "(on parle dans de cas de méthode de la troncature). \n",
    "Inspirez-vous en pour répondre aux questions. \n",
    "\n",
    "- ($N=30$) Dessinez le graphe des fenêtres de Hamming et Blackmann : vous vous servirez des routines \n",
    "$\\texttt{signal.hamming(N+1)}$ et $\\texttt{signal.blackman(N+1)}$\n",
    "- ($N=30$, $u_c=0.2$) Dessinez le gain obtenu pour les fenêtres rectangulaire, de Hamming et Blackmann. Calculez à partir des graphiques pour chacun des gains obtenus : la bande de transition, les atténuations (en décibels) en bande passante et en bande de coupure. \n",
    "\n",
    "- On trouve dans les livres les valeurs suivantes \n",
    "\n",
    "$$\n",
    "\\begin{array}{cccc}\n",
    " & \\text{bande de transition }\\Delta u & \\text{Atténuation (bande passante) } & \\text{Atténuation (bande de coupure) }\\\\\n",
    "\\text{fenêtre rectangulaire } & 2/N & 0.75dB & 21dB\\\\\n",
    "\\text{fenêtre de Hamming} & 4/N & 0.019dB & 53dB\\\\\n",
    "\\text{fenêtre de Blackman} & 6/N & 0.0017dB & 74dB\n",
    "\\end{array}\n",
    "$$\n",
    "Ces résultats sont-ils cohérents avec ceux mesurés dans la question précédente? \n",
    "Ceci indique le compromis suivant : soit on privilégie une bande de coupure étroite (le minimum est $2/N$) au prix d'une atténuation en bande de coupure médiocre ou bien on privilégie une très forte atténuation en bande de coupure au prix d'une bande de transition large. On ne peut pas tout avoir...\n",
    "\n",
    "\n"
   ]
  },
  {
   "cell_type": "code",
   "execution_count": null,
   "metadata": {
    "scrolled": true
   },
   "outputs": [],
   "source": [
    "M=15\n",
    "N=2*M\n",
    "uc=0.2\n",
    "n=np.arange(-M,M+1)\n",
    "h=RI_ideal(n,uc)\n",
    "\n",
    "\n",
    "\n",
    "wR=np.ones(N+1)\n",
    "wH=signal.hamming(N+1)\n",
    "wB=signal.blackman(N+1)\n",
    "hH=h*wH\n",
    "hB=h*wB\n",
    "D=np.repeat(0,N+1)\n",
    "D[1]=1\n",
    "freqs, GR , Phase_R=Bode(h,D)\n",
    "freqs, GH , Phase_H=Bode(hH,D)\n",
    "freqs, GB , Phase_B=Bode(hB,D)\n",
    "                \n",
    "\n",
    "plt.figure(3)\n",
    "plt.clf()\n",
    "plt.plot(wR,'o',label='rectangulaire')\n",
    "plt.plot(wH,'o',label='Hamming')\n",
    "plt.plot(wB,'o',label='Blackman')\n",
    "plt.legend()\n",
    "plt.title('graphe de trois fenêtres')\n",
    "\n",
    "\n",
    "plt.figure(4)\n",
    "plt.plot(freqs,GR,label='rectangulaire')\n",
    "plt.plot(freqs,GH,label='Hamming')\n",
    "plt.plot(freqs,GB,label='Blackman')\n",
    "plt.legend()\n",
    "plt.grid()\n",
    "plt.legend(loc=4)\n",
    "plt.title('Gains obtenus pour N=30')\n",
    "plt.show()\n",
    "\n"
   ]
  },
  {
   "cell_type": "code",
   "execution_count": null,
   "metadata": {},
   "outputs": [],
   "source": [
    "M=50\n",
    "N=2*M\n",
    "uc=0.2\n",
    "n=np.arange(-M,M+1)\n",
    "h=RI_ideal(n,uc)\n",
    "\n",
    "\n",
    "\n",
    "wR=np.ones(N+1)\n",
    "wH=signal.hamming(N+1)\n",
    "wB=signal.blackman(N+1)\n",
    "hH=h*wH\n",
    "hB=h*wB\n",
    "D=np.repeat(0,N+1)\n",
    "D[1]=1\n",
    "freqs, GR , Phase_R=Bode(h,D)\n",
    "freqs, GH , Phase_H=Bode(hH,D)\n",
    "freqs, GB , Phase_B=Bode(hB,D)\n",
    "                \n",
    "\n",
    "\n",
    "plt.figure(5)\n",
    "plt.plot(freqs,GR,label='rectangulaire')\n",
    "plt.plot(freqs,GH,label='Hamming')\n",
    "plt.plot(freqs,GB,label='Blackman')\n",
    "plt.legend()\n",
    "plt.grid()\n",
    "plt.legend(loc=4)\n",
    "plt.title('Gains obtenus pour N=100')\n",
    "plt.show()\n"
   ]
  },
  {
   "cell_type": "markdown",
   "metadata": {},
   "source": [
    "### Question no 2 \n",
    "\n",
    "Dans cette question, on souhaite filtrer le signal  $\\texttt{Traverso.wav}$ : le filtre en question est justement un filtre passe-haut dont nous allons donner les caractéristiques.  \n",
    "   \n",
    "   On rappelle que le signal en question est un mélange de sinusoïdes dont les fréquences sont des multiples de \n",
    "   $$\n",
    "   u_0=\\frac{f_0}{F_e}\n",
    "   $$\n",
    "   où $f_0=364$Hz et $F_e=44100$Hz. \n",
    "   \n",
    "   On souhaite atténuer très significativement (dans une proportion supérieure à $60$dB) le fondamental de ce signal (la composante à la fréquence $u_0$) en ne modifiant les amplitudes des autres composantes que dans une proportion inférieure à $0.5$dB. \n",
    "   \n",
    "- Proposer un filtre RIF qui accomplit cette tâche. Vous préciserez l'ordre, la fenêtre utilisée.\n",
    "\n",
    "Réponse : on prend comme fréquence de coupure la fréquence située à égale distance de \n",
    "$u_0$ et $2u_0$, soit\n",
    "$$\n",
    "u_c= \\frac{3}{2} u_0.\n",
    "$$\n",
    "Il s'agit ensuite de définir le type de fenêtre et l'ordre du filtre. POur obtenir comme souhaité une atténuation d'au moins $60dB$ dans la bande d'atténuation, il faut si l'on se réfère au tableau \"officiel\" précédent choisir une fenêtre de Blackman. Quant à son ordre, on le choisit pour que la bande d'atténuation coïncide avec l'intervalle $[u_0,2u_0]$ ce qui donne la relation \n",
    "$$\n",
    "\\frac{6}{N}\\leq 2u_0-u_0\n",
    "$$\n",
    "ou encore \n",
    "$$\n",
    "N\\geq \\frac{6F_e}{440}= 727.\n",
    "$$\n",
    "Nous prendrons $N=728$ (il faut que $N$ soit pair). Remarquez que ce filtre est long. \n",
    "\n",
    "- Filtrer le signal (fonction $\\texttt{signal.convolve}$) et dessiner dans deux graphes distincts les périodogrammes des deux signaux (filtré et non-filtré). Le filtre a-t-il agi comme ce à quoi nous nous attendions? \n",
    "\n",
    "- Concertir le signal filtré en *wave* et écouter le résultat obtenu. Entendez-vous encore la hauteur du signal d'origine? \n",
    "\n",
    "Voici ce que l'on peut lire dans l'histoire de la musique (édition de La Pléïade, article de Jacques Brillouin “l'acoustique et la musique”, pages  39) : \n",
    "\n",
    "*La hauteur d'un son musical, pur ou complexe, résulte donc du fait que l'oreille informe le cerveau de la présence d'une série harmonique; la hauteur attribuée au son est celle de la fondamentale de cette série même si cette dernière n'existe pas dans le son proposé à l'oreille; les conséquences musicales de ce fait sont importantes. Trois harmoniques successifs, fussent-ils de rang élevé (8, 9 et 10 par exemple), sont entendus comme un son unique dont la hauteur est celle de la fondamentale.*"
   ]
  },
  {
   "cell_type": "code",
   "execution_count": null,
   "metadata": {},
   "outputs": [],
   "source": [
    "###  le filtre passe-haut\n",
    "f0=364\n",
    "Fe=44100\n",
    "u0=f0/Fe\n",
    "uc=3/2*u0\n",
    "M=int (((6*Fe/f0)//2) + 1)\n",
    "N=2*M\n",
    "print(N)\n",
    "n=np.arange(-M,M+1)\n",
    "h=RI_ideal(n,uc)\n",
    "wB=signal.blackman(N+1)\n",
    "hB=h*wB\n",
    "D=np.repeat(0,N+1)\n",
    "D[1]=1\n",
    "\n",
    "freqs, G, Phase = Bode(hB,D)\n",
    "\n",
    "plt.figure(7)\n",
    "\n",
    "plt.subplot(211)\n",
    "plt.plot(h)\n",
    "plt.subplot(212)\n",
    "plt.plot(freqs,(G))\n",
    "plt.show()\n",
    "\n",
    "\n",
    "\n",
    "#### le signal d'entrée\n",
    "Fe, x = io.read('Traverso.wav')\n",
    "#####  le filtrage\n",
    "y=signal.convolve(hB,x)\n",
    "\n",
    "####les périodogrammes\n",
    "frequences_x , I_x = Periodogramme_dB(x)\n",
    "frequences_y , I_y = Periodogramme_dB(y)\n",
    "frequences_x=frequences_x*Fe\n",
    "frequences_y=frequences_y*Fe\n",
    "\n",
    "plt.figure(8)\n",
    "plt.clf\n",
    "plt.subplot(211)\n",
    "indices=frequences_x<2000\n",
    "plt.plot(frequences_x[indices],I_x[indices])\n",
    "plt.xlabel('Fréquences en Hz')\n",
    "plt.ylabel('DSP en décibels')\n",
    "plt.grid()\n",
    "plt.subplot(212)\n",
    "indices=frequences_y<2000\n",
    "plt.plot(frequences_y[indices],I_y[indices])\n",
    "plt.xlabel('Fréquences en Hz')\n",
    "plt.ylabel('DSP en décibels')\n",
    "plt.grid()\n",
    "plt.show()\n",
    "\n",
    "\n",
    "\n",
    "\n",
    "\n",
    "Coder_WAV('FiltragePH.wav',y,Fe)\n",
    "audio = Audio(filename='./FiltragePH.wav')\n",
    "display(audio)\n",
    "audio = Audio(filename='./Traverso.wav')\n",
    "display(audio)"
   ]
  },
  {
   "cell_type": "code",
   "execution_count": null,
   "metadata": {},
   "outputs": [],
   "source": [
    "print(M)"
   ]
  },
  {
   "cell_type": "markdown",
   "metadata": {},
   "source": [
    "### Question no 3\n",
    "\n",
    "Afin d'illustrer la dernière phrase de J. Brilloin, on se propose de filtrer le signal de violon par un filtre passe-bande. \n",
    "\n",
    "- Montrer que le filtre $Q_{\\text{ideal}}(u)=1- H_{\\text{ideal}}(u)$ est un filtre passe-bas dont la fréquence de coupure est $u_c$. \n",
    "\n",
    "- Appelons $q_{\\text{ideal}}[n]=\\delta[n]-h_{\\text{ideal}}(n)$ la RI de ce filtre et donnons-nous une fréquence $0<u_1<1/2$. Calculer en fonction de $Q_{\\text{ideal}}$ et $u_1$ la fonction de transfert $R_{\\text{ideal}}(u)$ du filtre \n",
    "$$\n",
    "r_{\\text{ideal}}[n]=2 q_{\\text{ideal}}[n]\\cos(2\\pi n u_1).\n",
    "$$\n",
    "\n",
    "- Montrer que si les conditions \n",
    "$$\n",
    "\\begin{cases}\n",
    "-u_{c}+u_{1}>0 & \\text{ et}\\\\\n",
    "u_{c}+u_{1}<\\frac{1}{2}\n",
    "\\end{cases}\n",
    "$$\n",
    "sont réalisées alors le filtre de fonction de transfert $R_{\\text{ideal}}(u)$ est un filtre passe-bande dont la bande passante est $\\left[ -u_{c}+u_{1} \\ , \\ u_{c}+u_{1} \\  \\right]$.\n",
    "\n",
    "- Synthétiser alors un filtre RIF permettant d'extraire les harmoniques 8, 9 et 10 qui atténue à au moins $60$dB les composantes dans les bandes de coupure.\n",
    "\n",
    "- Tester ce filtre sur le signal de violon et écouter le résultat. L'expérience permet-elle de confirmer le propos de J. Brillouin? "
   ]
  },
  {
   "cell_type": "markdown",
   "metadata": {},
   "source": [
    "Preuve des points : voir cours. \n",
    "Application : \n",
    "on choisit $-u_c+u_1=9u_0 - \\frac{1}{2}u_0$ et $u_c+u_1=11 u_0 + \\frac{1}{2}u_0$\n"
   ]
  },
  {
   "cell_type": "code",
   "execution_count": null,
   "metadata": {
    "scrolled": true
   },
   "outputs": [],
   "source": [
    "def RI_idealPB(n,uc):\n",
    "    h=0.0*n  ### vecteur de même taille que n\n",
    "    h[n==0]=2*uc\n",
    "    h[n != 0]=1/(np.pi*n[n != 0])*(np.sin(2*np.pi*n[n != 0]*uc))\n",
    "    return h\n",
    "\n",
    "\n",
    "u1= 10*u0\n",
    "uc=1.5*u0\n",
    "n=np.arange(-M,M+1)\n",
    "h=RI_idealPB(n,uc)\n",
    "h=2*h*np.cos(2*np.pi*u1*n)\n",
    "wB=signal.blackman(N+1)\n",
    "hB=h*wB\n",
    "D=np.repeat(0,N+1)\n",
    "D[1]=1\n",
    "\n",
    "freqs, G , Phase = Bode(hB,D )\n",
    "\n",
    "plt.figure(9)\n",
    "plt.clf()\n",
    "plt.subplot(211)\n",
    "plt.plot(h)\n",
    "plt.subplot(212)\n",
    "plt.plot(freqs,(G))\n",
    "plt.show()\n",
    "\n",
    "y=signal.convolve(hB,x)\n",
    "\n",
    "####les périodogrammes\n",
    "frequences_x , I_x = Periodogramme_dB(x)\n",
    "frequences_y , I_y = Periodogramme_dB(y)\n",
    "frequences_x=frequences_x*Fe\n",
    "frequences_y=frequences_y*Fe\n",
    "plt.figure(10)\n",
    "plt.clf\n",
    "plt.subplot(211)\n",
    "indices=frequences_x<7000\n",
    "plt.plot(frequences_x[indices],I_x[indices])\n",
    "plt.xlabel('Fréquences en Hz')\n",
    "plt.ylabel('DSP en décibels')\n",
    "plt.grid()\n",
    "plt.subplot(212)\n",
    "indices=frequences_y<7000\n",
    "plt.plot(frequences_y[indices],I_y[indices])\n",
    "plt.xlabel('Fréquences en Hz')\n",
    "plt.ylabel('DSP en décibels')\n",
    "plt.grid()\n",
    "plt.show()\n",
    "\n",
    "\n",
    "\n",
    "#### Enregistrement \n",
    "\n",
    "Coder_WAV('FiltragePasseBande.wav',y,Fe)\n",
    "audio = Audio(filename='./FiltragePasseBande.wav')\n",
    "display(audio)\n",
    "audio = Audio(filename='./Traverso.wav')\n",
    "display(audio)\n",
    "\n"
   ]
  },
  {
   "cell_type": "code",
   "execution_count": null,
   "metadata": {},
   "outputs": [],
   "source": []
  },
  {
   "cell_type": "code",
   "execution_count": null,
   "metadata": {},
   "outputs": [],
   "source": []
  },
  {
   "cell_type": "code",
   "execution_count": null,
   "metadata": {},
   "outputs": [],
   "source": []
  }
 ],
 "metadata": {
  "kernelspec": {
   "display_name": "Python 3 (ipykernel)",
   "language": "python",
   "name": "python3"
  },
  "language_info": {
   "codemirror_mode": {
    "name": "ipython",
    "version": 3
   },
   "file_extension": ".py",
   "mimetype": "text/x-python",
   "name": "python",
   "nbconvert_exporter": "python",
   "pygments_lexer": "ipython3",
   "version": "3.9.7"
  }
 },
 "nbformat": 4,
 "nbformat_minor": 2
}
